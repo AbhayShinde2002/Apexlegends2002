{
 "cells": [
  {
   "cell_type": "markdown",
   "id": "3281bdc5",
   "metadata": {},
   "source": [
    "**Name** : Abhay Dhondiba Shinde\n",
    "\n",
    "**Roll No** : B1951027\n",
    "\n",
    "**PRN** : 72018531K\n",
    "\n",
    "**Class** : BE IT A"
   ]
  },
  {
   "cell_type": "markdown",
   "id": "d02bbfe3",
   "metadata": {},
   "source": [
    "# Tensorflow Test Program"
   ]
  },
  {
   "cell_type": "markdown",
   "id": "c20f2d14",
   "metadata": {},
   "source": [
    "Installation of Tensorflow"
   ]
  },
  {
   "cell_type": "code",
   "execution_count": 1,
   "id": "46922b49",
   "metadata": {},
   "outputs": [
    {
     "name": "stdout",
     "output_type": "stream",
     "text": [
      "Collecting tensorflow\n",
      "  Using cached tensorflow-2.10.0-cp39-cp39-win_amd64.whl (455.9 MB)\n",
      "Collecting flatbuffers>=2.0\n",
      "  Using cached flatbuffers-22.10.26-py2.py3-none-any.whl (26 kB)\n",
      "Requirement already satisfied: opt-einsum>=2.3.2 in c:\\users\\abhay\\appdata\\local\\programs\\python\\python39\\lib\\site-packages (from tensorflow) (3.3.0)\n",
      "Requirement already satisfied: libclang>=13.0.0 in c:\\users\\abhay\\appdata\\local\\programs\\python\\python39\\lib\\site-packages (from tensorflow) (14.0.6)\n",
      "Requirement already satisfied: termcolor>=1.1.0 in c:\\users\\abhay\\appdata\\local\\programs\\python\\python39\\lib\\site-packages (from tensorflow) (2.1.0)\n",
      "Requirement already satisfied: packaging in c:\\users\\abhay\\appdata\\roaming\\python\\python39\\site-packages (from tensorflow) (21.3)\n",
      "Requirement already satisfied: grpcio<2.0,>=1.24.3 in c:\\users\\abhay\\appdata\\local\\programs\\python\\python39\\lib\\site-packages (from tensorflow) (1.50.0)\n",
      "Requirement already satisfied: numpy>=1.20 in c:\\users\\abhay\\appdata\\local\\programs\\python\\python39\\lib\\site-packages (from tensorflow) (1.23.4)\n",
      "Requirement already satisfied: keras<2.11,>=2.10.0 in c:\\users\\abhay\\appdata\\local\\programs\\python\\python39\\lib\\site-packages (from tensorflow) (2.10.0)\n",
      "Collecting astunparse>=1.6.0\n",
      "  Using cached astunparse-1.6.3-py2.py3-none-any.whl (12 kB)\n",
      "Requirement already satisfied: six>=1.12.0 in c:\\users\\abhay\\appdata\\roaming\\python\\python39\\site-packages (from tensorflow) (1.16.0)\n",
      "Requirement already satisfied: typing-extensions>=3.6.6 in c:\\users\\abhay\\appdata\\local\\programs\\python\\python39\\lib\\site-packages (from tensorflow) (4.4.0)\n",
      "Requirement already satisfied: tensorflow-estimator<2.11,>=2.10.0 in c:\\users\\abhay\\appdata\\local\\programs\\python\\python39\\lib\\site-packages (from tensorflow) (2.10.0)\n",
      "Collecting h5py>=2.9.0\n",
      "  Using cached h5py-3.7.0-cp39-cp39-win_amd64.whl (2.6 MB)\n",
      "Requirement already satisfied: tensorboard<2.11,>=2.10 in c:\\users\\abhay\\appdata\\local\\programs\\python\\python39\\lib\\site-packages (from tensorflow) (2.10.1)\n",
      "Requirement already satisfied: tensorflow-io-gcs-filesystem>=0.23.1 in c:\\users\\abhay\\appdata\\local\\programs\\python\\python39\\lib\\site-packages (from tensorflow) (0.27.0)\n",
      "Requirement already satisfied: wrapt>=1.11.0 in c:\\users\\abhay\\appdata\\local\\programs\\python\\python39\\lib\\site-packages (from tensorflow) (1.14.1)\n",
      "Collecting google-pasta>=0.1.1\n",
      "  Using cached google_pasta-0.2.0-py3-none-any.whl (57 kB)\n",
      "Requirement already satisfied: setuptools in c:\\users\\abhay\\appdata\\local\\programs\\python\\python39\\lib\\site-packages (from tensorflow) (56.0.0)\n",
      "Requirement already satisfied: keras-preprocessing>=1.1.1 in c:\\users\\abhay\\appdata\\local\\programs\\python\\python39\\lib\\site-packages (from tensorflow) (1.1.2)\n",
      "Requirement already satisfied: absl-py>=1.0.0 in c:\\users\\abhay\\appdata\\local\\programs\\python\\python39\\lib\\site-packages (from tensorflow) (1.3.0)\n",
      "Collecting gast<=0.4.0,>=0.2.1\n",
      "  Using cached gast-0.4.0-py3-none-any.whl (9.8 kB)\n",
      "Requirement already satisfied: protobuf<3.20,>=3.9.2 in c:\\users\\abhay\\appdata\\local\\programs\\python\\python39\\lib\\site-packages (from tensorflow) (3.19.6)\n",
      "Requirement already satisfied: wheel<1.0,>=0.23.0 in c:\\users\\abhay\\appdata\\local\\programs\\python\\python39\\lib\\site-packages (from astunparse>=1.6.0->tensorflow) (0.38.4)\n",
      "Requirement already satisfied: werkzeug>=1.0.1 in c:\\users\\abhay\\appdata\\local\\programs\\python\\python39\\lib\\site-packages (from tensorboard<2.11,>=2.10->tensorflow) (2.2.2)\n",
      "Requirement already satisfied: requests<3,>=2.21.0 in c:\\users\\abhay\\appdata\\local\\programs\\python\\python39\\lib\\site-packages (from tensorboard<2.11,>=2.10->tensorflow) (2.28.1)\n",
      "Requirement already satisfied: google-auth<3,>=1.6.3 in c:\\users\\abhay\\appdata\\local\\programs\\python\\python39\\lib\\site-packages (from tensorboard<2.11,>=2.10->tensorflow) (2.14.1)\n",
      "Requirement already satisfied: tensorboard-data-server<0.7.0,>=0.6.0 in c:\\users\\abhay\\appdata\\local\\programs\\python\\python39\\lib\\site-packages (from tensorboard<2.11,>=2.10->tensorflow) (0.6.1)\n",
      "Requirement already satisfied: markdown>=2.6.8 in c:\\users\\abhay\\appdata\\local\\programs\\python\\python39\\lib\\site-packages (from tensorboard<2.11,>=2.10->tensorflow) (3.4.1)\n",
      "Requirement already satisfied: google-auth-oauthlib<0.5,>=0.4.1 in c:\\users\\abhay\\appdata\\local\\programs\\python\\python39\\lib\\site-packages (from tensorboard<2.11,>=2.10->tensorflow) (0.4.6)\n",
      "Requirement already satisfied: tensorboard-plugin-wit>=1.6.0 in c:\\users\\abhay\\appdata\\local\\programs\\python\\python39\\lib\\site-packages (from tensorboard<2.11,>=2.10->tensorflow) (1.8.1)\n",
      "Requirement already satisfied: pyasn1-modules>=0.2.1 in c:\\users\\abhay\\appdata\\local\\programs\\python\\python39\\lib\\site-packages (from google-auth<3,>=1.6.3->tensorboard<2.11,>=2.10->tensorflow) (0.2.8)\n",
      "Requirement already satisfied: rsa<5,>=3.1.4 in c:\\users\\abhay\\appdata\\local\\programs\\python\\python39\\lib\\site-packages (from google-auth<3,>=1.6.3->tensorboard<2.11,>=2.10->tensorflow) (4.9)\n",
      "Requirement already satisfied: cachetools<6.0,>=2.0.0 in c:\\users\\abhay\\appdata\\local\\programs\\python\\python39\\lib\\site-packages (from google-auth<3,>=1.6.3->tensorboard<2.11,>=2.10->tensorflow) (5.2.0)\n",
      "Requirement already satisfied: requests-oauthlib>=0.7.0 in c:\\users\\abhay\\appdata\\local\\programs\\python\\python39\\lib\\site-packages (from google-auth-oauthlib<0.5,>=0.4.1->tensorboard<2.11,>=2.10->tensorflow) (1.3.1)\n",
      "Requirement already satisfied: importlib-metadata>=4.4 in c:\\users\\abhay\\appdata\\local\\programs\\python\\python39\\lib\\site-packages (from markdown>=2.6.8->tensorboard<2.11,>=2.10->tensorflow) (5.0.0)\n",
      "Requirement already satisfied: zipp>=0.5 in c:\\users\\abhay\\appdata\\local\\programs\\python\\python39\\lib\\site-packages (from importlib-metadata>=4.4->markdown>=2.6.8->tensorboard<2.11,>=2.10->tensorflow) (3.10.0)\n",
      "Requirement already satisfied: pyasn1<0.5.0,>=0.4.6 in c:\\users\\abhay\\appdata\\local\\programs\\python\\python39\\lib\\site-packages (from pyasn1-modules>=0.2.1->google-auth<3,>=1.6.3->tensorboard<2.11,>=2.10->tensorflow) (0.4.8)\n",
      "Requirement already satisfied: certifi>=2017.4.17 in c:\\users\\abhay\\appdata\\local\\programs\\python\\python39\\lib\\site-packages (from requests<3,>=2.21.0->tensorboard<2.11,>=2.10->tensorflow) (2022.9.24)\n",
      "Requirement already satisfied: charset-normalizer<3,>=2 in c:\\users\\abhay\\appdata\\local\\programs\\python\\python39\\lib\\site-packages (from requests<3,>=2.21.0->tensorboard<2.11,>=2.10->tensorflow) (2.1.1)\n",
      "Requirement already satisfied: urllib3<1.27,>=1.21.1 in c:\\users\\abhay\\appdata\\local\\programs\\python\\python39\\lib\\site-packages (from requests<3,>=2.21.0->tensorboard<2.11,>=2.10->tensorflow) (1.26.12)\n",
      "Requirement already satisfied: idna<4,>=2.5 in c:\\users\\abhay\\appdata\\local\\programs\\python\\python39\\lib\\site-packages (from requests<3,>=2.21.0->tensorboard<2.11,>=2.10->tensorflow) (3.4)\n",
      "Requirement already satisfied: oauthlib>=3.0.0 in c:\\users\\abhay\\appdata\\local\\programs\\python\\python39\\lib\\site-packages (from requests-oauthlib>=0.7.0->google-auth-oauthlib<0.5,>=0.4.1->tensorboard<2.11,>=2.10->tensorflow) (3.2.2)\n",
      "Requirement already satisfied: MarkupSafe>=2.1.1 in c:\\users\\abhay\\appdata\\local\\programs\\python\\python39\\lib\\site-packages (from werkzeug>=1.0.1->tensorboard<2.11,>=2.10->tensorflow) (2.1.1)\n",
      "Requirement already satisfied: pyparsing!=3.0.5,>=2.0.2 in c:\\users\\abhay\\appdata\\roaming\\python\\python39\\site-packages (from packaging->tensorflow) (3.0.9)\n",
      "Installing collected packages: h5py, google-pasta, gast, flatbuffers, astunparse, tensorflow\n",
      "Successfully installed astunparse-1.6.3 flatbuffers-22.10.26 gast-0.4.0 google-pasta-0.2.0 h5py-3.7.0 tensorflow-2.10.0\n",
      "Note: you may need to restart the kernel to use updated packages.\n"
     ]
    },
    {
     "name": "stderr",
     "output_type": "stream",
     "text": [
      "WARNING: You are using pip version 21.1.3; however, version 22.3.1 is available.\n",
      "You should consider upgrading via the 'c:\\Users\\abhay\\AppData\\Local\\Programs\\Python\\Python39\\python.exe -m pip install --upgrade pip' command.\n"
     ]
    }
   ],
   "source": [
    "pip install tensorflow"
   ]
  },
  {
   "cell_type": "code",
   "execution_count": 2,
   "id": "905055ca",
   "metadata": {},
   "outputs": [],
   "source": [
    "import tensorflow as tf"
   ]
  },
  {
   "cell_type": "markdown",
   "id": "fb5610a1",
   "metadata": {},
   "source": [
    "Print out Tensorflow version"
   ]
  },
  {
   "cell_type": "code",
   "execution_count": 3,
   "id": "df305a3b",
   "metadata": {},
   "outputs": [
    {
     "name": "stdout",
     "output_type": "stream",
     "text": [
      "2.10.0\n"
     ]
    }
   ],
   "source": [
    "print(tf.__version__)"
   ]
  },
  {
   "cell_type": "code",
   "execution_count": 4,
   "id": "ba31abc7",
   "metadata": {},
   "outputs": [
    {
     "name": "stdout",
     "output_type": "stream",
     "text": [
      "tf.Tensor(-210.48566, shape=(), dtype=float32)\n"
     ]
    }
   ],
   "source": [
    "print(tf.reduce_sum(tf.random.normal([1000,1000])))"
   ]
  },
  {
   "cell_type": "code",
   "execution_count": 5,
   "id": "6d661176",
   "metadata": {},
   "outputs": [
    {
     "name": "stdout",
     "output_type": "stream",
     "text": [
      "Requirement already satisfied: keras in c:\\users\\abhay\\appdata\\local\\programs\\python\\python39\\lib\\site-packages (2.10.0)Note: you may need to restart the kernel to use updated packages.\n"
     ]
    },
    {
     "name": "stderr",
     "output_type": "stream",
     "text": [
      "WARNING: You are using pip version 21.1.3; however, version 22.3.1 is available.\n",
      "You should consider upgrading via the 'c:\\Users\\abhay\\AppData\\Local\\Programs\\Python\\Python39\\python.exe -m pip install --upgrade pip' command.\n"
     ]
    },
    {
     "name": "stdout",
     "output_type": "stream",
     "text": [
      "\n"
     ]
    }
   ],
   "source": [
    "pip install keras"
   ]
  },
  {
   "cell_type": "markdown",
   "id": "fe95976a",
   "metadata": {},
   "source": [
    "# Keras Test Program "
   ]
  },
  {
   "cell_type": "code",
   "execution_count": 6,
   "id": "4c67c3e7",
   "metadata": {},
   "outputs": [],
   "source": [
    "from tensorflow import keras"
   ]
  },
  {
   "cell_type": "code",
   "execution_count": 7,
   "id": "1d9b0fe7",
   "metadata": {},
   "outputs": [],
   "source": [
    "from keras import datasets"
   ]
  },
  {
   "cell_type": "markdown",
   "id": "0c44ae8c",
   "metadata": {},
   "source": [
    "Loading MNIST Data"
   ]
  },
  {
   "cell_type": "code",
   "execution_count": 8,
   "id": "13a195d9",
   "metadata": {},
   "outputs": [
    {
     "name": "stdout",
     "output_type": "stream",
     "text": [
      "Downloading data from https://storage.googleapis.com/tensorflow/tf-keras-datasets/mnist.npz\n",
      "11490434/11490434 [==============================] - 1s 0us/step\n"
     ]
    }
   ],
   "source": [
    "(train_images,train_labels),(test_images,test_labels)=datasets.mnist.load_data()"
   ]
  },
  {
   "cell_type": "markdown",
   "id": "bbc62ecc",
   "metadata": {},
   "source": [
    "Check the dataset loaded"
   ]
  },
  {
   "cell_type": "code",
   "execution_count": 9,
   "id": "ac9513b2",
   "metadata": {},
   "outputs": [
    {
     "data": {
      "text/plain": [
       "((60000, 28, 28), (10000, 28, 28))"
      ]
     },
     "execution_count": 9,
     "metadata": {},
     "output_type": "execute_result"
    }
   ],
   "source": [
    "train_images.shape,test_images.shape"
   ]
  },
  {
   "cell_type": "markdown",
   "id": "09249e0a",
   "metadata": {},
   "source": [
    "# Theano Test Program"
   ]
  },
  {
   "cell_type": "code",
   "execution_count": 10,
   "id": "e6e80b79",
   "metadata": {},
   "outputs": [
    {
     "name": "stdout",
     "output_type": "stream",
     "text": [
      "Collecting theano\n",
      "  Downloading Theano-1.0.5.tar.gz (2.8 MB)\n",
      "Requirement already satisfied: numpy>=1.9.1 in c:\\users\\abhay\\appdata\\local\\programs\\python\\python39\\lib\\site-packages (from theano) (1.23.4)\n",
      "Collecting scipy>=0.14\n",
      "  Downloading scipy-1.9.3-cp39-cp39-win_amd64.whl (40.2 MB)\n",
      "Requirement already satisfied: six>=1.9.0 in c:\\users\\abhay\\appdata\\roaming\\python\\python39\\site-packages (from theano) (1.16.0)\n",
      "Building wheels for collected packages: theano\n",
      "  Building wheel for theano (setup.py): started\n",
      "  Building wheel for theano (setup.py): still running...\n",
      "  Building wheel for theano (setup.py): still running...\n",
      "  Building wheel for theano (setup.py): finished with status 'done'\n",
      "  Created wheel for theano: filename=Theano-1.0.5-py3-none-any.whl size=2668129 sha256=26fc8992d3cee4c1174bab03124857ab136a934a7626b7ce3263cbf66d1a3500\n",
      "  Stored in directory: c:\\users\\abhay\\appdata\\local\\pip\\cache\\wheels\\12\\d8\\36\\e9b7c617ca8be398dcc48621c539d0cb1d41ff04e4367fc235\n",
      "Successfully built theano\n",
      "Installing collected packages: scipy, theano\n",
      "Successfully installed scipy-1.9.3 theano-1.0.5\n",
      "Note: you may need to restart the kernel to use updated packages.\n"
     ]
    },
    {
     "name": "stderr",
     "output_type": "stream",
     "text": [
      "WARNING: You are using pip version 21.1.3; however, version 22.3.1 is available.\n",
      "You should consider upgrading via the 'c:\\Users\\abhay\\AppData\\Local\\Programs\\Python\\Python39\\python.exe -m pip install --upgrade pip' command.\n"
     ]
    }
   ],
   "source": [
    "pip install theano"
   ]
  },
  {
   "cell_type": "code",
   "execution_count": 11,
   "id": "21c80d95",
   "metadata": {},
   "outputs": [],
   "source": [
    "import numpy"
   ]
  },
  {
   "cell_type": "code",
   "execution_count": 18,
   "id": "946ceeba",
   "metadata": {},
   "outputs": [
    {
     "name": "stdout",
     "output_type": "stream",
     "text": [
      "\n",
      "You can find the C code in this temporary file: C:\\Users\\abhay\\AppData\\Local\\Temp\\theano_compilation_error_wh_0vg_3\n"
     ]
    },
    {
     "ename": "AttributeError",
     "evalue": "partially initialized module 'theano' has no attribute 'gof' (most likely due to a circular import)",
     "output_type": "error",
     "traceback": [
      "\u001b[1;31m---------------------------------------------------------------------------\u001b[0m",
      "\u001b[1;31mImportError\u001b[0m                               Traceback (most recent call last)",
      "File \u001b[1;32mc:\\Users\\abhay\\AppData\\Local\\Programs\\Python\\Python39\\lib\\site-packages\\theano\\gof\\lazylinker_c.py:76\u001b[0m\n\u001b[0;32m     75\u001b[0m         \u001b[39mif\u001b[39;00m version \u001b[39m!=\u001b[39m actual_version:\n\u001b[1;32m---> 76\u001b[0m             \u001b[39mraise\u001b[39;00m \u001b[39mImportError\u001b[39;00m(\n\u001b[0;32m     77\u001b[0m                 \u001b[39m\"\u001b[39m\u001b[39mVersion check of the existing lazylinker compiled file.\u001b[39m\u001b[39m\"\u001b[39m\n\u001b[0;32m     78\u001b[0m                 \u001b[39m\"\u001b[39m\u001b[39m Looking for version \u001b[39m\u001b[39m%s\u001b[39;00m\u001b[39m, but found \u001b[39m\u001b[39m%s\u001b[39;00m\u001b[39m. \u001b[39m\u001b[39m\"\u001b[39m\n\u001b[0;32m     79\u001b[0m                 \u001b[39m\"\u001b[39m\u001b[39mExtra debug information: force_compile=\u001b[39m\u001b[39m%s\u001b[39;00m\u001b[39m, _need_reload=\u001b[39m\u001b[39m%s\u001b[39;00m\u001b[39m\"\u001b[39m \u001b[39m%\u001b[39m (\n\u001b[0;32m     80\u001b[0m                     version,\n\u001b[0;32m     81\u001b[0m                     actual_version, force_compile, _need_reload))\n\u001b[0;32m     82\u001b[0m \u001b[39mexcept\u001b[39;00m \u001b[39mImportError\u001b[39;00m:\n",
      "\u001b[1;31mImportError\u001b[0m: Version check of the existing lazylinker compiled file. Looking for version 0.211, but found None. Extra debug information: force_compile=False, _need_reload=True",
      "\nDuring handling of the above exception, another exception occurred:\n",
      "\u001b[1;31mImportError\u001b[0m                               Traceback (most recent call last)",
      "File \u001b[1;32mc:\\Users\\abhay\\AppData\\Local\\Programs\\Python\\Python39\\lib\\site-packages\\theano\\gof\\lazylinker_c.py:99\u001b[0m\n\u001b[0;32m     98\u001b[0m     \u001b[39mif\u001b[39;00m version \u001b[39m!=\u001b[39m actual_version:\n\u001b[1;32m---> 99\u001b[0m         \u001b[39mraise\u001b[39;00m \u001b[39mImportError\u001b[39;00m(\n\u001b[0;32m    100\u001b[0m             \u001b[39m\"\u001b[39m\u001b[39mVersion check of the existing lazylinker compiled file.\u001b[39m\u001b[39m\"\u001b[39m\n\u001b[0;32m    101\u001b[0m             \u001b[39m\"\u001b[39m\u001b[39m Looking for version \u001b[39m\u001b[39m%s\u001b[39;00m\u001b[39m, but found \u001b[39m\u001b[39m%s\u001b[39;00m\u001b[39m. \u001b[39m\u001b[39m\"\u001b[39m\n\u001b[0;32m    102\u001b[0m             \u001b[39m\"\u001b[39m\u001b[39mExtra debug information: force_compile=\u001b[39m\u001b[39m%s\u001b[39;00m\u001b[39m,\u001b[39m\u001b[39m\"\u001b[39m\n\u001b[0;32m    103\u001b[0m             \u001b[39m\"\u001b[39m\u001b[39m _need_reload=\u001b[39m\u001b[39m%s\u001b[39;00m\u001b[39m\"\u001b[39m \u001b[39m%\u001b[39m (\n\u001b[0;32m    104\u001b[0m                 version,\n\u001b[0;32m    105\u001b[0m                 actual_version, force_compile, _need_reload))\n\u001b[0;32m    106\u001b[0m \u001b[39mexcept\u001b[39;00m \u001b[39mImportError\u001b[39;00m:\n\u001b[0;32m    107\u001b[0m     \u001b[39m# It is useless to try to compile if there isn't any\u001b[39;00m\n\u001b[0;32m    108\u001b[0m     \u001b[39m# compiler!  But we still want to try to load it, in case\u001b[39;00m\n\u001b[0;32m    109\u001b[0m     \u001b[39m# the cache was copied from another computer.\u001b[39;00m\n",
      "\u001b[1;31mImportError\u001b[0m: Version check of the existing lazylinker compiled file. Looking for version 0.211, but found None. Extra debug information: force_compile=False, _need_reload=True",
      "\nDuring handling of the above exception, another exception occurred:\n",
      "\u001b[1;31mException\u001b[0m                                 Traceback (most recent call last)",
      "File \u001b[1;32mc:\\Users\\abhay\\AppData\\Local\\Programs\\Python\\Python39\\lib\\site-packages\\theano\\gof\\vm.py:674\u001b[0m\n\u001b[0;32m    673\u001b[0m     \u001b[39mraise\u001b[39;00m theano\u001b[39m.\u001b[39mgof\u001b[39m.\u001b[39mcmodule\u001b[39m.\u001b[39mMissingGXX(\u001b[39m'\u001b[39m\u001b[39mlazylinker will not be imported if theano.config.cxx is not set.\u001b[39m\u001b[39m'\u001b[39m)\n\u001b[1;32m--> 674\u001b[0m \u001b[39mfrom\u001b[39;00m \u001b[39m.\u001b[39;00m \u001b[39mimport\u001b[39;00m lazylinker_c\n\u001b[0;32m    676\u001b[0m \u001b[39mclass\u001b[39;00m \u001b[39mCVM\u001b[39;00m(lazylinker_c\u001b[39m.\u001b[39mCLazyLinker, VM):\n",
      "File \u001b[1;32mc:\\Users\\abhay\\AppData\\Local\\Programs\\Python\\Python39\\lib\\site-packages\\theano\\gof\\lazylinker_c.py:139\u001b[0m\n\u001b[0;32m    138\u001b[0m args \u001b[39m=\u001b[39m cmodule\u001b[39m.\u001b[39mGCC_compiler\u001b[39m.\u001b[39mcompile_args()\n\u001b[1;32m--> 139\u001b[0m cmodule\u001b[39m.\u001b[39;49mGCC_compiler\u001b[39m.\u001b[39;49mcompile_str(dirname, code, location\u001b[39m=\u001b[39;49mloc,\n\u001b[0;32m    140\u001b[0m                                  preargs\u001b[39m=\u001b[39;49margs)\n\u001b[0;32m    141\u001b[0m \u001b[39m# Save version into the __init__.py file.\u001b[39;00m\n",
      "File \u001b[1;32mc:\\Users\\abhay\\AppData\\Local\\Programs\\Python\\Python39\\lib\\site-packages\\theano\\gof\\cmodule.py:2410\u001b[0m, in \u001b[0;36mGCC_compiler.compile_str\u001b[1;34m(module_name, src_code, location, include_dirs, lib_dirs, libs, preargs, py_module, hide_symbols)\u001b[0m\n\u001b[0;32m   2407\u001b[0m     \u001b[39m# We replace '\\n' by '. ' in the error message because when Python\u001b[39;00m\n\u001b[0;32m   2408\u001b[0m     \u001b[39m# prints the exception, having '\\n' in the text makes it more\u001b[39;00m\n\u001b[0;32m   2409\u001b[0m     \u001b[39m# difficult to read.\u001b[39;00m\n\u001b[1;32m-> 2410\u001b[0m     \u001b[39mraise\u001b[39;00m \u001b[39mException\u001b[39;00m(\u001b[39m'\u001b[39m\u001b[39mCompilation failed (return status=\u001b[39m\u001b[39m%s\u001b[39;00m\u001b[39m): \u001b[39m\u001b[39m%s\u001b[39;00m\u001b[39m'\u001b[39m \u001b[39m%\u001b[39m\n\u001b[0;32m   2411\u001b[0m                     (status, compile_stderr\u001b[39m.\u001b[39mreplace(\u001b[39m'\u001b[39m\u001b[39m\\n\u001b[39;00m\u001b[39m'\u001b[39m, \u001b[39m'\u001b[39m\u001b[39m. \u001b[39m\u001b[39m'\u001b[39m)))\n\u001b[0;32m   2412\u001b[0m \u001b[39melif\u001b[39;00m config\u001b[39m.\u001b[39mcmodule\u001b[39m.\u001b[39mcompilation_warning \u001b[39mand\u001b[39;00m compile_stderr:\n\u001b[0;32m   2413\u001b[0m     \u001b[39m# Print errors just below the command line.\u001b[39;00m\n",
      "\u001b[1;31mException\u001b[0m: Compilation failed (return status=1): cc1plus.exe: sorry, unimplemented: 64-bit mode not compiled in. ",
      "\nDuring handling of the above exception, another exception occurred:\n",
      "\u001b[1;31mAttributeError\u001b[0m                            Traceback (most recent call last)",
      "Cell \u001b[1;32mIn [18], line 1\u001b[0m\n\u001b[1;32m----> 1\u001b[0m \u001b[38;5;28;01mimport\u001b[39;00m \u001b[38;5;21;01mtheano\u001b[39;00m\u001b[38;5;21;01m.\u001b[39;00m\u001b[38;5;21;01mtensor\u001b[39;00m \u001b[38;5;28;01mas\u001b[39;00m \u001b[38;5;21;01mT\u001b[39;00m\n",
      "File \u001b[1;32mc:\\Users\\abhay\\AppData\\Local\\Programs\\Python\\Python39\\lib\\site-packages\\theano\\__init__.py:110\u001b[0m\n\u001b[0;32m     97\u001b[0m __api_version__ \u001b[39m=\u001b[39m \u001b[39m1\u001b[39m\n\u001b[0;32m     99\u001b[0m \u001b[39mfrom\u001b[39;00m \u001b[39mtheano\u001b[39;00m\u001b[39m.\u001b[39;00m\u001b[39mgof\u001b[39;00m \u001b[39mimport\u001b[39;00m (\n\u001b[0;32m    100\u001b[0m     CLinker, OpWiseCLinker, DualLinker, Linker, LocalLinker, PerformLinker,\n\u001b[0;32m    101\u001b[0m     Container,\n\u001b[1;32m   (...)\u001b[0m\n\u001b[0;32m    107\u001b[0m     Type, Generic, generic,\n\u001b[0;32m    108\u001b[0m     object2, utils)\n\u001b[1;32m--> 110\u001b[0m \u001b[39mfrom\u001b[39;00m \u001b[39mtheano\u001b[39;00m\u001b[39m.\u001b[39;00m\u001b[39mcompile\u001b[39;00m \u001b[39mimport\u001b[39;00m (\n\u001b[0;32m    111\u001b[0m     SymbolicInput, In,\n\u001b[0;32m    112\u001b[0m     SymbolicOutput, Out,\n\u001b[0;32m    113\u001b[0m     Mode,\n\u001b[0;32m    114\u001b[0m     predefined_modes, predefined_linkers, predefined_optimizers,\n\u001b[0;32m    115\u001b[0m     FunctionMaker, function, function_dump,\n\u001b[0;32m    116\u001b[0m     OpFromGraph,\n\u001b[0;32m    117\u001b[0m     ProfileStats,\n\u001b[0;32m    118\u001b[0m     Param, shared, as_op)\n\u001b[0;32m    120\u001b[0m \u001b[39mfrom\u001b[39;00m \u001b[39mtheano\u001b[39;00m\u001b[39m.\u001b[39;00m\u001b[39mmisc\u001b[39;00m\u001b[39m.\u001b[39;00m\u001b[39msafe_asarray\u001b[39;00m \u001b[39mimport\u001b[39;00m _asarray\n\u001b[0;32m    122\u001b[0m \u001b[39mfrom\u001b[39;00m \u001b[39mtheano\u001b[39;00m\u001b[39m.\u001b[39;00m\u001b[39mprinting\u001b[39;00m \u001b[39mimport\u001b[39;00m pprint, pp\n",
      "File \u001b[1;32mc:\\Users\\abhay\\AppData\\Local\\Programs\\Python\\Python39\\lib\\site-packages\\theano\\compile\\__init__.py:12\u001b[0m\n\u001b[0;32m      2\u001b[0m \u001b[39mfrom\u001b[39;00m \u001b[39mtheano\u001b[39;00m\u001b[39m.\u001b[39;00m\u001b[39mcompile\u001b[39;00m\u001b[39m.\u001b[39;00m\u001b[39mops\u001b[39;00m \u001b[39mimport\u001b[39;00m (\n\u001b[0;32m      3\u001b[0m         DeepCopyOp, deep_copy_op, register_deep_copy_op_c_code,\n\u001b[0;32m      4\u001b[0m         Shape, shape, register_shape_c_code,\n\u001b[1;32m   (...)\u001b[0m\n\u001b[0;32m      7\u001b[0m         as_op, Rebroadcast, register_rebroadcast_c_code,\n\u001b[0;32m      8\u001b[0m         SpecifyShape, specify_shape, register_specify_shape_c_code)\n\u001b[0;32m     10\u001b[0m \u001b[39mfrom\u001b[39;00m \u001b[39mtheano\u001b[39;00m\u001b[39m.\u001b[39;00m\u001b[39mcompile\u001b[39;00m\u001b[39m.\u001b[39;00m\u001b[39mfunction_module\u001b[39;00m \u001b[39mimport\u001b[39;00m \u001b[39m*\u001b[39m\n\u001b[1;32m---> 12\u001b[0m \u001b[39mfrom\u001b[39;00m \u001b[39mtheano\u001b[39;00m\u001b[39m.\u001b[39;00m\u001b[39mcompile\u001b[39;00m\u001b[39m.\u001b[39;00m\u001b[39mmode\u001b[39;00m \u001b[39mimport\u001b[39;00m \u001b[39m*\u001b[39m\n\u001b[0;32m     14\u001b[0m \u001b[39mfrom\u001b[39;00m \u001b[39mtheano\u001b[39;00m\u001b[39m.\u001b[39;00m\u001b[39mcompile\u001b[39;00m\u001b[39m.\u001b[39;00m\u001b[39mio\u001b[39;00m \u001b[39mimport\u001b[39;00m \u001b[39m*\u001b[39m\n\u001b[0;32m     16\u001b[0m \u001b[39mfrom\u001b[39;00m \u001b[39mtheano\u001b[39;00m\u001b[39m.\u001b[39;00m\u001b[39mcompile\u001b[39;00m\u001b[39m.\u001b[39;00m\u001b[39mdebugmode\u001b[39;00m \u001b[39mimport\u001b[39;00m DebugMode\n",
      "File \u001b[1;32mc:\\Users\\abhay\\AppData\\Local\\Programs\\Python\\Python39\\lib\\site-packages\\theano\\compile\\mode.py:11\u001b[0m\n\u001b[0;32m      9\u001b[0m \u001b[39mimport\u001b[39;00m \u001b[39mtheano\u001b[39;00m\n\u001b[0;32m     10\u001b[0m \u001b[39mfrom\u001b[39;00m \u001b[39mtheano\u001b[39;00m \u001b[39mimport\u001b[39;00m gof\n\u001b[1;32m---> 11\u001b[0m \u001b[39mimport\u001b[39;00m \u001b[39mtheano\u001b[39;00m\u001b[39m.\u001b[39;00m\u001b[39mgof\u001b[39;00m\u001b[39m.\u001b[39;00m\u001b[39mvm\u001b[39;00m\n\u001b[0;32m     12\u001b[0m \u001b[39mfrom\u001b[39;00m \u001b[39mtheano\u001b[39;00m \u001b[39mimport\u001b[39;00m config\n\u001b[0;32m     13\u001b[0m \u001b[39mfrom\u001b[39;00m \u001b[39msix\u001b[39;00m \u001b[39mimport\u001b[39;00m string_types\n",
      "File \u001b[1;32mc:\\Users\\abhay\\AppData\\Local\\Programs\\Python\\Python39\\lib\\site-packages\\theano\\gof\\vm.py:683\u001b[0m\n\u001b[0;32m    681\u001b[0m \u001b[39mexcept\u001b[39;00m \u001b[39mImportError\u001b[39;00m:\n\u001b[0;32m    682\u001b[0m     \u001b[39mpass\u001b[39;00m\n\u001b[1;32m--> 683\u001b[0m \u001b[39mexcept\u001b[39;00m (\u001b[39mOSError\u001b[39;00m, theano\u001b[39m.\u001b[39;49mgof\u001b[39m.\u001b[39mcmodule\u001b[39m.\u001b[39mMissingGXX) \u001b[39mas\u001b[39;00m e:\n\u001b[0;32m    684\u001b[0m     \u001b[39m# OSError happens when g++ is not installed.  In that case, we\u001b[39;00m\n\u001b[0;32m    685\u001b[0m     \u001b[39m# already changed the default linker to something else then CVM.\u001b[39;00m\n\u001b[0;32m    686\u001b[0m     \u001b[39m# Currently this is the py linker.\u001b[39;00m\n\u001b[0;32m    687\u001b[0m     \u001b[39m# Here we assert that the default linker is not cvm.\u001b[39;00m\n\u001b[0;32m    688\u001b[0m     \u001b[39massert\u001b[39;00m \u001b[39mnot\u001b[39;00m [x \u001b[39mfor\u001b[39;00m x \u001b[39min\u001b[39;00m _config_var_list\n\u001b[0;32m    689\u001b[0m                 \u001b[39mif\u001b[39;00m x\u001b[39m.\u001b[39mfullname \u001b[39m==\u001b[39m \u001b[39m'\u001b[39m\u001b[39mlinker\u001b[39m\u001b[39m'\u001b[39m][\u001b[39m0\u001b[39m]\u001b[39m.\u001b[39mdefault\u001b[39m.\u001b[39mstartswith(\u001b[39m'\u001b[39m\u001b[39mcvm\u001b[39m\u001b[39m'\u001b[39m), e\n\u001b[0;32m    690\u001b[0m     \u001b[39mpass\u001b[39;00m\n",
      "\u001b[1;31mAttributeError\u001b[0m: partially initialized module 'theano' has no attribute 'gof' (most likely due to a circular import)"
     ]
    }
   ],
   "source": [
    "import theano.tensor as T"
   ]
  },
  {
   "cell_type": "code",
   "execution_count": 14,
   "id": "eaa1a659",
   "metadata": {},
   "outputs": [
    {
     "name": "stdout",
     "output_type": "stream",
     "text": [
      "\n",
      "You can find the C code in this temporary file: C:\\Users\\abhay\\AppData\\Local\\Temp\\theano_compilation_error_ybw339w1\n"
     ]
    },
    {
     "ename": "AttributeError",
     "evalue": "partially initialized module 'theano' has no attribute 'gof' (most likely due to a circular import)",
     "output_type": "error",
     "traceback": [
      "\u001b[1;31m---------------------------------------------------------------------------\u001b[0m",
      "\u001b[1;31mImportError\u001b[0m                               Traceback (most recent call last)",
      "File \u001b[1;32mc:\\Users\\abhay\\AppData\\Local\\Programs\\Python\\Python39\\lib\\site-packages\\theano\\gof\\lazylinker_c.py:76\u001b[0m\n\u001b[0;32m     75\u001b[0m         \u001b[39mif\u001b[39;00m version \u001b[39m!=\u001b[39m actual_version:\n\u001b[1;32m---> 76\u001b[0m             \u001b[39mraise\u001b[39;00m \u001b[39mImportError\u001b[39;00m(\n\u001b[0;32m     77\u001b[0m                 \u001b[39m\"\u001b[39m\u001b[39mVersion check of the existing lazylinker compiled file.\u001b[39m\u001b[39m\"\u001b[39m\n\u001b[0;32m     78\u001b[0m                 \u001b[39m\"\u001b[39m\u001b[39m Looking for version \u001b[39m\u001b[39m%s\u001b[39;00m\u001b[39m, but found \u001b[39m\u001b[39m%s\u001b[39;00m\u001b[39m. \u001b[39m\u001b[39m\"\u001b[39m\n\u001b[0;32m     79\u001b[0m                 \u001b[39m\"\u001b[39m\u001b[39mExtra debug information: force_compile=\u001b[39m\u001b[39m%s\u001b[39;00m\u001b[39m, _need_reload=\u001b[39m\u001b[39m%s\u001b[39;00m\u001b[39m\"\u001b[39m \u001b[39m%\u001b[39m (\n\u001b[0;32m     80\u001b[0m                     version,\n\u001b[0;32m     81\u001b[0m                     actual_version, force_compile, _need_reload))\n\u001b[0;32m     82\u001b[0m \u001b[39mexcept\u001b[39;00m \u001b[39mImportError\u001b[39;00m:\n",
      "\u001b[1;31mImportError\u001b[0m: Version check of the existing lazylinker compiled file. Looking for version 0.211, but found None. Extra debug information: force_compile=False, _need_reload=True",
      "\nDuring handling of the above exception, another exception occurred:\n",
      "\u001b[1;31mImportError\u001b[0m                               Traceback (most recent call last)",
      "File \u001b[1;32mc:\\Users\\abhay\\AppData\\Local\\Programs\\Python\\Python39\\lib\\site-packages\\theano\\gof\\lazylinker_c.py:99\u001b[0m\n\u001b[0;32m     98\u001b[0m     \u001b[39mif\u001b[39;00m version \u001b[39m!=\u001b[39m actual_version:\n\u001b[1;32m---> 99\u001b[0m         \u001b[39mraise\u001b[39;00m \u001b[39mImportError\u001b[39;00m(\n\u001b[0;32m    100\u001b[0m             \u001b[39m\"\u001b[39m\u001b[39mVersion check of the existing lazylinker compiled file.\u001b[39m\u001b[39m\"\u001b[39m\n\u001b[0;32m    101\u001b[0m             \u001b[39m\"\u001b[39m\u001b[39m Looking for version \u001b[39m\u001b[39m%s\u001b[39;00m\u001b[39m, but found \u001b[39m\u001b[39m%s\u001b[39;00m\u001b[39m. \u001b[39m\u001b[39m\"\u001b[39m\n\u001b[0;32m    102\u001b[0m             \u001b[39m\"\u001b[39m\u001b[39mExtra debug information: force_compile=\u001b[39m\u001b[39m%s\u001b[39;00m\u001b[39m,\u001b[39m\u001b[39m\"\u001b[39m\n\u001b[0;32m    103\u001b[0m             \u001b[39m\"\u001b[39m\u001b[39m _need_reload=\u001b[39m\u001b[39m%s\u001b[39;00m\u001b[39m\"\u001b[39m \u001b[39m%\u001b[39m (\n\u001b[0;32m    104\u001b[0m                 version,\n\u001b[0;32m    105\u001b[0m                 actual_version, force_compile, _need_reload))\n\u001b[0;32m    106\u001b[0m \u001b[39mexcept\u001b[39;00m \u001b[39mImportError\u001b[39;00m:\n\u001b[0;32m    107\u001b[0m     \u001b[39m# It is useless to try to compile if there isn't any\u001b[39;00m\n\u001b[0;32m    108\u001b[0m     \u001b[39m# compiler!  But we still want to try to load it, in case\u001b[39;00m\n\u001b[0;32m    109\u001b[0m     \u001b[39m# the cache was copied from another computer.\u001b[39;00m\n",
      "\u001b[1;31mImportError\u001b[0m: Version check of the existing lazylinker compiled file. Looking for version 0.211, but found None. Extra debug information: force_compile=False, _need_reload=True",
      "\nDuring handling of the above exception, another exception occurred:\n",
      "\u001b[1;31mException\u001b[0m                                 Traceback (most recent call last)",
      "File \u001b[1;32mc:\\Users\\abhay\\AppData\\Local\\Programs\\Python\\Python39\\lib\\site-packages\\theano\\gof\\vm.py:674\u001b[0m\n\u001b[0;32m    673\u001b[0m     \u001b[39mraise\u001b[39;00m theano\u001b[39m.\u001b[39mgof\u001b[39m.\u001b[39mcmodule\u001b[39m.\u001b[39mMissingGXX(\u001b[39m'\u001b[39m\u001b[39mlazylinker will not be imported if theano.config.cxx is not set.\u001b[39m\u001b[39m'\u001b[39m)\n\u001b[1;32m--> 674\u001b[0m \u001b[39mfrom\u001b[39;00m \u001b[39m.\u001b[39;00m \u001b[39mimport\u001b[39;00m lazylinker_c\n\u001b[0;32m    676\u001b[0m \u001b[39mclass\u001b[39;00m \u001b[39mCVM\u001b[39;00m(lazylinker_c\u001b[39m.\u001b[39mCLazyLinker, VM):\n",
      "File \u001b[1;32mc:\\Users\\abhay\\AppData\\Local\\Programs\\Python\\Python39\\lib\\site-packages\\theano\\gof\\lazylinker_c.py:139\u001b[0m\n\u001b[0;32m    138\u001b[0m args \u001b[39m=\u001b[39m cmodule\u001b[39m.\u001b[39mGCC_compiler\u001b[39m.\u001b[39mcompile_args()\n\u001b[1;32m--> 139\u001b[0m cmodule\u001b[39m.\u001b[39;49mGCC_compiler\u001b[39m.\u001b[39;49mcompile_str(dirname, code, location\u001b[39m=\u001b[39;49mloc,\n\u001b[0;32m    140\u001b[0m                                  preargs\u001b[39m=\u001b[39;49margs)\n\u001b[0;32m    141\u001b[0m \u001b[39m# Save version into the __init__.py file.\u001b[39;00m\n",
      "File \u001b[1;32mc:\\Users\\abhay\\AppData\\Local\\Programs\\Python\\Python39\\lib\\site-packages\\theano\\gof\\cmodule.py:2410\u001b[0m, in \u001b[0;36mGCC_compiler.compile_str\u001b[1;34m(module_name, src_code, location, include_dirs, lib_dirs, libs, preargs, py_module, hide_symbols)\u001b[0m\n\u001b[0;32m   2407\u001b[0m     \u001b[39m# We replace '\\n' by '. ' in the error message because when Python\u001b[39;00m\n\u001b[0;32m   2408\u001b[0m     \u001b[39m# prints the exception, having '\\n' in the text makes it more\u001b[39;00m\n\u001b[0;32m   2409\u001b[0m     \u001b[39m# difficult to read.\u001b[39;00m\n\u001b[1;32m-> 2410\u001b[0m     \u001b[39mraise\u001b[39;00m \u001b[39mException\u001b[39;00m(\u001b[39m'\u001b[39m\u001b[39mCompilation failed (return status=\u001b[39m\u001b[39m%s\u001b[39;00m\u001b[39m): \u001b[39m\u001b[39m%s\u001b[39;00m\u001b[39m'\u001b[39m \u001b[39m%\u001b[39m\n\u001b[0;32m   2411\u001b[0m                     (status, compile_stderr\u001b[39m.\u001b[39mreplace(\u001b[39m'\u001b[39m\u001b[39m\\n\u001b[39;00m\u001b[39m'\u001b[39m, \u001b[39m'\u001b[39m\u001b[39m. \u001b[39m\u001b[39m'\u001b[39m)))\n\u001b[0;32m   2412\u001b[0m \u001b[39melif\u001b[39;00m config\u001b[39m.\u001b[39mcmodule\u001b[39m.\u001b[39mcompilation_warning \u001b[39mand\u001b[39;00m compile_stderr:\n\u001b[0;32m   2413\u001b[0m     \u001b[39m# Print errors just below the command line.\u001b[39;00m\n",
      "\u001b[1;31mException\u001b[0m: Compilation failed (return status=1): cc1plus.exe: sorry, unimplemented: 64-bit mode not compiled in. ",
      "\nDuring handling of the above exception, another exception occurred:\n",
      "\u001b[1;31mAttributeError\u001b[0m                            Traceback (most recent call last)",
      "Cell \u001b[1;32mIn [14], line 1\u001b[0m\n\u001b[1;32m----> 1\u001b[0m \u001b[38;5;28;01mfrom\u001b[39;00m \u001b[38;5;21;01mtheano\u001b[39;00m \u001b[38;5;28;01mimport\u001b[39;00m function\n",
      "File \u001b[1;32mc:\\Users\\abhay\\AppData\\Local\\Programs\\Python\\Python39\\lib\\site-packages\\theano\\__init__.py:110\u001b[0m\n\u001b[0;32m     97\u001b[0m __api_version__ \u001b[39m=\u001b[39m \u001b[39m1\u001b[39m\n\u001b[0;32m     99\u001b[0m \u001b[39mfrom\u001b[39;00m \u001b[39mtheano\u001b[39;00m\u001b[39m.\u001b[39;00m\u001b[39mgof\u001b[39;00m \u001b[39mimport\u001b[39;00m (\n\u001b[0;32m    100\u001b[0m     CLinker, OpWiseCLinker, DualLinker, Linker, LocalLinker, PerformLinker,\n\u001b[0;32m    101\u001b[0m     Container,\n\u001b[1;32m   (...)\u001b[0m\n\u001b[0;32m    107\u001b[0m     Type, Generic, generic,\n\u001b[0;32m    108\u001b[0m     object2, utils)\n\u001b[1;32m--> 110\u001b[0m \u001b[39mfrom\u001b[39;00m \u001b[39mtheano\u001b[39;00m\u001b[39m.\u001b[39;00m\u001b[39mcompile\u001b[39;00m \u001b[39mimport\u001b[39;00m (\n\u001b[0;32m    111\u001b[0m     SymbolicInput, In,\n\u001b[0;32m    112\u001b[0m     SymbolicOutput, Out,\n\u001b[0;32m    113\u001b[0m     Mode,\n\u001b[0;32m    114\u001b[0m     predefined_modes, predefined_linkers, predefined_optimizers,\n\u001b[0;32m    115\u001b[0m     FunctionMaker, function, function_dump,\n\u001b[0;32m    116\u001b[0m     OpFromGraph,\n\u001b[0;32m    117\u001b[0m     ProfileStats,\n\u001b[0;32m    118\u001b[0m     Param, shared, as_op)\n\u001b[0;32m    120\u001b[0m \u001b[39mfrom\u001b[39;00m \u001b[39mtheano\u001b[39;00m\u001b[39m.\u001b[39;00m\u001b[39mmisc\u001b[39;00m\u001b[39m.\u001b[39;00m\u001b[39msafe_asarray\u001b[39;00m \u001b[39mimport\u001b[39;00m _asarray\n\u001b[0;32m    122\u001b[0m \u001b[39mfrom\u001b[39;00m \u001b[39mtheano\u001b[39;00m\u001b[39m.\u001b[39;00m\u001b[39mprinting\u001b[39;00m \u001b[39mimport\u001b[39;00m pprint, pp\n",
      "File \u001b[1;32mc:\\Users\\abhay\\AppData\\Local\\Programs\\Python\\Python39\\lib\\site-packages\\theano\\compile\\__init__.py:12\u001b[0m\n\u001b[0;32m      2\u001b[0m \u001b[39mfrom\u001b[39;00m \u001b[39mtheano\u001b[39;00m\u001b[39m.\u001b[39;00m\u001b[39mcompile\u001b[39;00m\u001b[39m.\u001b[39;00m\u001b[39mops\u001b[39;00m \u001b[39mimport\u001b[39;00m (\n\u001b[0;32m      3\u001b[0m         DeepCopyOp, deep_copy_op, register_deep_copy_op_c_code,\n\u001b[0;32m      4\u001b[0m         Shape, shape, register_shape_c_code,\n\u001b[1;32m   (...)\u001b[0m\n\u001b[0;32m      7\u001b[0m         as_op, Rebroadcast, register_rebroadcast_c_code,\n\u001b[0;32m      8\u001b[0m         SpecifyShape, specify_shape, register_specify_shape_c_code)\n\u001b[0;32m     10\u001b[0m \u001b[39mfrom\u001b[39;00m \u001b[39mtheano\u001b[39;00m\u001b[39m.\u001b[39;00m\u001b[39mcompile\u001b[39;00m\u001b[39m.\u001b[39;00m\u001b[39mfunction_module\u001b[39;00m \u001b[39mimport\u001b[39;00m \u001b[39m*\u001b[39m\n\u001b[1;32m---> 12\u001b[0m \u001b[39mfrom\u001b[39;00m \u001b[39mtheano\u001b[39;00m\u001b[39m.\u001b[39;00m\u001b[39mcompile\u001b[39;00m\u001b[39m.\u001b[39;00m\u001b[39mmode\u001b[39;00m \u001b[39mimport\u001b[39;00m \u001b[39m*\u001b[39m\n\u001b[0;32m     14\u001b[0m \u001b[39mfrom\u001b[39;00m \u001b[39mtheano\u001b[39;00m\u001b[39m.\u001b[39;00m\u001b[39mcompile\u001b[39;00m\u001b[39m.\u001b[39;00m\u001b[39mio\u001b[39;00m \u001b[39mimport\u001b[39;00m \u001b[39m*\u001b[39m\n\u001b[0;32m     16\u001b[0m \u001b[39mfrom\u001b[39;00m \u001b[39mtheano\u001b[39;00m\u001b[39m.\u001b[39;00m\u001b[39mcompile\u001b[39;00m\u001b[39m.\u001b[39;00m\u001b[39mdebugmode\u001b[39;00m \u001b[39mimport\u001b[39;00m DebugMode\n",
      "File \u001b[1;32mc:\\Users\\abhay\\AppData\\Local\\Programs\\Python\\Python39\\lib\\site-packages\\theano\\compile\\mode.py:11\u001b[0m\n\u001b[0;32m      9\u001b[0m \u001b[39mimport\u001b[39;00m \u001b[39mtheano\u001b[39;00m\n\u001b[0;32m     10\u001b[0m \u001b[39mfrom\u001b[39;00m \u001b[39mtheano\u001b[39;00m \u001b[39mimport\u001b[39;00m gof\n\u001b[1;32m---> 11\u001b[0m \u001b[39mimport\u001b[39;00m \u001b[39mtheano\u001b[39;00m\u001b[39m.\u001b[39;00m\u001b[39mgof\u001b[39;00m\u001b[39m.\u001b[39;00m\u001b[39mvm\u001b[39;00m\n\u001b[0;32m     12\u001b[0m \u001b[39mfrom\u001b[39;00m \u001b[39mtheano\u001b[39;00m \u001b[39mimport\u001b[39;00m config\n\u001b[0;32m     13\u001b[0m \u001b[39mfrom\u001b[39;00m \u001b[39msix\u001b[39;00m \u001b[39mimport\u001b[39;00m string_types\n",
      "File \u001b[1;32mc:\\Users\\abhay\\AppData\\Local\\Programs\\Python\\Python39\\lib\\site-packages\\theano\\gof\\vm.py:683\u001b[0m\n\u001b[0;32m    681\u001b[0m \u001b[39mexcept\u001b[39;00m \u001b[39mImportError\u001b[39;00m:\n\u001b[0;32m    682\u001b[0m     \u001b[39mpass\u001b[39;00m\n\u001b[1;32m--> 683\u001b[0m \u001b[39mexcept\u001b[39;00m (\u001b[39mOSError\u001b[39;00m, theano\u001b[39m.\u001b[39;49mgof\u001b[39m.\u001b[39mcmodule\u001b[39m.\u001b[39mMissingGXX) \u001b[39mas\u001b[39;00m e:\n\u001b[0;32m    684\u001b[0m     \u001b[39m# OSError happens when g++ is not installed.  In that case, we\u001b[39;00m\n\u001b[0;32m    685\u001b[0m     \u001b[39m# already changed the default linker to something else then CVM.\u001b[39;00m\n\u001b[0;32m    686\u001b[0m     \u001b[39m# Currently this is the py linker.\u001b[39;00m\n\u001b[0;32m    687\u001b[0m     \u001b[39m# Here we assert that the default linker is not cvm.\u001b[39;00m\n\u001b[0;32m    688\u001b[0m     \u001b[39massert\u001b[39;00m \u001b[39mnot\u001b[39;00m [x \u001b[39mfor\u001b[39;00m x \u001b[39min\u001b[39;00m _config_var_list\n\u001b[0;32m    689\u001b[0m                 \u001b[39mif\u001b[39;00m x\u001b[39m.\u001b[39mfullname \u001b[39m==\u001b[39m \u001b[39m'\u001b[39m\u001b[39mlinker\u001b[39m\u001b[39m'\u001b[39m][\u001b[39m0\u001b[39m]\u001b[39m.\u001b[39mdefault\u001b[39m.\u001b[39mstartswith(\u001b[39m'\u001b[39m\u001b[39mcvm\u001b[39m\u001b[39m'\u001b[39m), e\n\u001b[0;32m    690\u001b[0m     \u001b[39mpass\u001b[39;00m\n",
      "\u001b[1;31mAttributeError\u001b[0m: partially initialized module 'theano' has no attribute 'gof' (most likely due to a circular import)"
     ]
    }
   ],
   "source": [
    "from theano import function"
   ]
  },
  {
   "cell_type": "markdown",
   "id": "c9333d30",
   "metadata": {},
   "source": [
    "**Addition of two scalars**"
   ]
  },
  {
   "cell_type": "markdown",
   "id": "8239f5a6",
   "metadata": {},
   "source": [
    "Declaring Two Variables"
   ]
  },
  {
   "cell_type": "code",
   "execution_count": 17,
   "id": "7948929a",
   "metadata": {},
   "outputs": [
    {
     "ename": "NameError",
     "evalue": "name 'T' is not defined",
     "output_type": "error",
     "traceback": [
      "\u001b[1;31m---------------------------------------------------------------------------\u001b[0m",
      "\u001b[1;31mNameError\u001b[0m                                 Traceback (most recent call last)",
      "Cell \u001b[1;32mIn [17], line 1\u001b[0m\n\u001b[1;32m----> 1\u001b[0m x \u001b[38;5;241m=\u001b[39m \u001b[43mT\u001b[49m\u001b[38;5;241m.\u001b[39mdscalar(\u001b[38;5;124m'\u001b[39m\u001b[38;5;124mx\u001b[39m\u001b[38;5;124m'\u001b[39m)\n",
      "\u001b[1;31mNameError\u001b[0m: name 'T' is not defined"
     ]
    }
   ],
   "source": [
    "x = T.dscalar('x')"
   ]
  },
  {
   "cell_type": "code",
   "execution_count": null,
   "id": "7446f8e9",
   "metadata": {},
   "outputs": [],
   "source": [
    "y = T.dscalar('y')"
   ]
  },
  {
   "cell_type": "markdown",
   "id": "ade601d5",
   "metadata": {},
   "source": [
    "summing up the two numbers"
   ]
  },
  {
   "cell_type": "code",
   "execution_count": null,
   "id": "1a2fe4ba",
   "metadata": {},
   "outputs": [],
   "source": [
    "z = x + y"
   ]
  },
  {
   "cell_type": "code",
   "execution_count": null,
   "id": "e9d18cf5",
   "metadata": {},
   "outputs": [],
   "source": [
    "f = function([x,y],z)"
   ]
  },
  {
   "cell_type": "code",
   "execution_count": null,
   "id": "3765e3da",
   "metadata": {},
   "outputs": [
    {
     "data": {
      "text/plain": [
       "array(12.)"
      ]
     },
     "execution_count": 21,
     "metadata": {},
     "output_type": "execute_result"
    }
   ],
   "source": [
    "f(5,7)"
   ]
  },
  {
   "cell_type": "markdown",
   "id": "1bf63ad2",
   "metadata": {},
   "source": [
    "# PyTorch Test Program"
   ]
  },
  {
   "cell_type": "code",
   "execution_count": null,
   "id": "d5e9078a",
   "metadata": {},
   "outputs": [
    {
     "name": "stdout",
     "output_type": "stream",
     "text": [
      "Collecting torch\n",
      "  Downloading torch-1.12.1-cp39-cp39-win_amd64.whl (161.8 MB)\n",
      "Requirement already satisfied: typing-extensions in c:\\users\\poona\\anaconda3\\lib\\site-packages (from torch) (4.1.1)\n",
      "Installing collected packages: torch\n",
      "Successfully installed torch-1.12.1\n",
      "Note: you may need to restart the kernel to use updated packages.\n"
     ]
    }
   ],
   "source": [
    "pip install torch"
   ]
  },
  {
   "cell_type": "markdown",
   "id": "b17befc1",
   "metadata": {},
   "source": [
    "Importing torch"
   ]
  },
  {
   "cell_type": "code",
   "execution_count": null,
   "id": "24841c86",
   "metadata": {},
   "outputs": [],
   "source": [
    "import torch"
   ]
  },
  {
   "cell_type": "code",
   "execution_count": null,
   "id": "8e729110",
   "metadata": {},
   "outputs": [],
   "source": [
    "import torch.nn as nn"
   ]
  },
  {
   "cell_type": "markdown",
   "id": "ebece799",
   "metadata": {},
   "source": [
    "Print out  PyTorch version"
   ]
  },
  {
   "cell_type": "code",
   "execution_count": null,
   "id": "2e56ac9c",
   "metadata": {},
   "outputs": [
    {
     "name": "stdout",
     "output_type": "stream",
     "text": [
      "1.12.1+cpu\n"
     ]
    }
   ],
   "source": [
    "print(torch.__version__)"
   ]
  }
 ],
 "metadata": {
  "kernelspec": {
   "display_name": "Python 3.9.6 64-bit",
   "language": "python",
   "name": "python3"
  },
  "language_info": {
   "codemirror_mode": {
    "name": "ipython",
    "version": 3
   },
   "file_extension": ".py",
   "mimetype": "text/x-python",
   "name": "python",
   "nbconvert_exporter": "python",
   "pygments_lexer": "ipython3",
   "version": "3.9.6"
  },
  "vscode": {
   "interpreter": {
    "hash": "ccb1eceed0bfde043ad2b72334fe69a0acfe17e112f24737d2168750f0b00529"
   }
  }
 },
 "nbformat": 4,
 "nbformat_minor": 5
}
